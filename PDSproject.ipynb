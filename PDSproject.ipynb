{
 "cells": [
  {
   "cell_type": "code",
   "execution_count": 1,
   "id": "b27dc2bc",
   "metadata": {},
   "outputs": [],
   "source": [
    "import numpy as np\n",
    "import pandas as pd\n",
    "import seaborn as sns\n",
    "import matplotlib.pyplot as plt \n",
    "%matplotlib inline"
   ]
  },
  {
   "cell_type": "code",
   "execution_count": 2,
   "id": "414702ed",
   "metadata": {},
   "outputs": [],
   "source": [
    "data = pd.read_csv(\"C:/Users/udvas/OneDrive/Desktop/PDS PROJECT_UDVAS AND NILABJA/Vaccination.csv\")"
   ]
  },
  {
   "cell_type": "code",
   "execution_count": 18,
   "id": "e703da6d",
   "metadata": {},
   "outputs": [],
   "source": [
    "data = data[data[\"Age\"]!='0-17']"
   ]
  },
  {
   "cell_type": "code",
   "execution_count": 19,
   "id": "53346362",
   "metadata": {},
   "outputs": [
    {
     "data": {
      "text/html": [
       "<div>\n",
       "<style scoped>\n",
       "    .dataframe tbody tr th:only-of-type {\n",
       "        vertical-align: middle;\n",
       "    }\n",
       "\n",
       "    .dataframe tbody tr th {\n",
       "        vertical-align: top;\n",
       "    }\n",
       "\n",
       "    .dataframe thead th {\n",
       "        text-align: right;\n",
       "    }\n",
       "</style>\n",
       "<table border=\"1\" class=\"dataframe\">\n",
       "  <thead>\n",
       "    <tr style=\"text-align: right;\">\n",
       "      <th></th>\n",
       "      <th>TimeStamp</th>\n",
       "      <th>Age</th>\n",
       "      <th>Gender</th>\n",
       "      <th>Living_area</th>\n",
       "      <th>Vac_safe</th>\n",
       "      <th>Vac_status</th>\n",
       "      <th>Travel</th>\n",
       "      <th>1st_choice</th>\n",
       "      <th>2nd_choice</th>\n",
       "      <th>3rd_choice</th>\n",
       "      <th>...</th>\n",
       "      <th>6th_choice</th>\n",
       "      <th>Vac_brand</th>\n",
       "      <th>Vac_reliable</th>\n",
       "      <th>CoWin</th>\n",
       "      <th>Vac_app_easy</th>\n",
       "      <th>waiting_time</th>\n",
       "      <th>Social_dis</th>\n",
       "      <th>Hygiene</th>\n",
       "      <th>Vac_symptom</th>\n",
       "      <th>Govt_effort</th>\n",
       "    </tr>\n",
       "  </thead>\n",
       "  <tbody>\n",
       "    <tr>\n",
       "      <th>0</th>\n",
       "      <td>08-10-2021 00:59</td>\n",
       "      <td>18-25</td>\n",
       "      <td>Female</td>\n",
       "      <td>Small town</td>\n",
       "      <td>Yes</td>\n",
       "      <td>Both doses taken</td>\n",
       "      <td>No</td>\n",
       "      <td>Covishield</td>\n",
       "      <td>CoVaxin</td>\n",
       "      <td>Sputnik</td>\n",
       "      <td>...</td>\n",
       "      <td>Moderna</td>\n",
       "      <td>Covishield</td>\n",
       "      <td>Paid vaccines offered by private organizations</td>\n",
       "      <td>Yes, I faced a lot of issues while booking</td>\n",
       "      <td>3</td>\n",
       "      <td>1 - 2 hours</td>\n",
       "      <td>1</td>\n",
       "      <td>2</td>\n",
       "      <td>After both doses</td>\n",
       "      <td>2</td>\n",
       "    </tr>\n",
       "    <tr>\n",
       "      <th>1</th>\n",
       "      <td>18-10-2021 21:38</td>\n",
       "      <td>18-25</td>\n",
       "      <td>Female</td>\n",
       "      <td>Small town</td>\n",
       "      <td>Yes</td>\n",
       "      <td>Both doses taken</td>\n",
       "      <td>No</td>\n",
       "      <td>Moderna</td>\n",
       "      <td>Pfizer</td>\n",
       "      <td>Sputnik</td>\n",
       "      <td>...</td>\n",
       "      <td>AstraZeneca</td>\n",
       "      <td>Covishield</td>\n",
       "      <td>Free vaccines offered by the Government</td>\n",
       "      <td>No, I have not used the portal</td>\n",
       "      <td>4</td>\n",
       "      <td>1 - 2 hours</td>\n",
       "      <td>1</td>\n",
       "      <td>2</td>\n",
       "      <td>After 1st dose</td>\n",
       "      <td>3</td>\n",
       "    </tr>\n",
       "    <tr>\n",
       "      <th>2</th>\n",
       "      <td>18-10-2021 21:56</td>\n",
       "      <td>18-25</td>\n",
       "      <td>Male</td>\n",
       "      <td>Metropolitan cities</td>\n",
       "      <td>Yes</td>\n",
       "      <td>Both doses taken</td>\n",
       "      <td>Yes</td>\n",
       "      <td>Pfizer</td>\n",
       "      <td>AstraZeneca</td>\n",
       "      <td>Covishield</td>\n",
       "      <td>...</td>\n",
       "      <td>Moderna</td>\n",
       "      <td>Covishield</td>\n",
       "      <td>Free vaccines offered by the Government</td>\n",
       "      <td>Yes, I faced a lot of issues while booking</td>\n",
       "      <td>2</td>\n",
       "      <td>&gt; 2 hours</td>\n",
       "      <td>3</td>\n",
       "      <td>3</td>\n",
       "      <td>After 1st dose</td>\n",
       "      <td>3</td>\n",
       "    </tr>\n",
       "    <tr>\n",
       "      <th>3</th>\n",
       "      <td>18-10-2021 22:29</td>\n",
       "      <td>18-25</td>\n",
       "      <td>Female</td>\n",
       "      <td>Small town</td>\n",
       "      <td>Yes</td>\n",
       "      <td>Both doses taken</td>\n",
       "      <td>No</td>\n",
       "      <td>Covishield</td>\n",
       "      <td>CoVaxin</td>\n",
       "      <td>AstraZeneca</td>\n",
       "      <td>...</td>\n",
       "      <td>Moderna</td>\n",
       "      <td>Covishield</td>\n",
       "      <td>Free vaccines offered by the Government</td>\n",
       "      <td>Yes, I faced a lot of issues while booking</td>\n",
       "      <td>3</td>\n",
       "      <td>&gt; 2 hours</td>\n",
       "      <td>3</td>\n",
       "      <td>3</td>\n",
       "      <td>After 1st dose</td>\n",
       "      <td>4</td>\n",
       "    </tr>\n",
       "    <tr>\n",
       "      <th>4</th>\n",
       "      <td>18-10-2021 22:31</td>\n",
       "      <td>18-25</td>\n",
       "      <td>Female</td>\n",
       "      <td>Metropolitan cities</td>\n",
       "      <td>Not sure</td>\n",
       "      <td>Both doses taken</td>\n",
       "      <td>No</td>\n",
       "      <td>Covishield</td>\n",
       "      <td>CoVaxin</td>\n",
       "      <td>Sputnik</td>\n",
       "      <td>...</td>\n",
       "      <td>AstraZeneca</td>\n",
       "      <td>CoVaxin</td>\n",
       "      <td>Free vaccines offered by the Government</td>\n",
       "      <td>Yes, but I did not face any problem</td>\n",
       "      <td>4</td>\n",
       "      <td>&lt; half hour</td>\n",
       "      <td>3</td>\n",
       "      <td>3</td>\n",
       "      <td>After both doses</td>\n",
       "      <td>3</td>\n",
       "    </tr>\n",
       "  </tbody>\n",
       "</table>\n",
       "<p>5 rows × 22 columns</p>\n",
       "</div>"
      ],
      "text/plain": [
       "          TimeStamp    Age  Gender          Living_area  Vac_safe  \\\n",
       "0  08-10-2021 00:59  18-25  Female           Small town       Yes   \n",
       "1  18-10-2021 21:38  18-25  Female           Small town       Yes   \n",
       "2  18-10-2021 21:56  18-25    Male  Metropolitan cities       Yes   \n",
       "3  18-10-2021 22:29  18-25  Female           Small town       Yes   \n",
       "4  18-10-2021 22:31  18-25  Female  Metropolitan cities  Not sure   \n",
       "\n",
       "         Vac_status Travel  1st_choice   2nd_choice   3rd_choice  ...  \\\n",
       "0  Both doses taken     No  Covishield      CoVaxin      Sputnik  ...   \n",
       "1  Both doses taken     No     Moderna       Pfizer      Sputnik  ...   \n",
       "2  Both doses taken    Yes      Pfizer  AstraZeneca   Covishield  ...   \n",
       "3  Both doses taken     No  Covishield      CoVaxin  AstraZeneca  ...   \n",
       "4  Both doses taken     No  Covishield      CoVaxin      Sputnik  ...   \n",
       "\n",
       "    6th_choice   Vac_brand                                    Vac_reliable  \\\n",
       "0      Moderna  Covishield  Paid vaccines offered by private organizations   \n",
       "1  AstraZeneca  Covishield         Free vaccines offered by the Government   \n",
       "2      Moderna  Covishield         Free vaccines offered by the Government   \n",
       "3      Moderna  Covishield         Free vaccines offered by the Government   \n",
       "4  AstraZeneca     CoVaxin         Free vaccines offered by the Government   \n",
       "\n",
       "                                        CoWin Vac_app_easy waiting_time  \\\n",
       "0  Yes, I faced a lot of issues while booking            3  1 - 2 hours   \n",
       "1              No, I have not used the portal            4  1 - 2 hours   \n",
       "2  Yes, I faced a lot of issues while booking            2    > 2 hours   \n",
       "3  Yes, I faced a lot of issues while booking            3    > 2 hours   \n",
       "4         Yes, but I did not face any problem            4  < half hour   \n",
       "\n",
       "   Social_dis Hygiene       Vac_symptom  Govt_effort  \n",
       "0           1       2  After both doses            2  \n",
       "1           1       2    After 1st dose            3  \n",
       "2           3       3    After 1st dose            3  \n",
       "3           3       3    After 1st dose            4  \n",
       "4           3       3  After both doses            3  \n",
       "\n",
       "[5 rows x 22 columns]"
      ]
     },
     "execution_count": 19,
     "metadata": {},
     "output_type": "execute_result"
    }
   ],
   "source": [
    "data.head()"
   ]
  },
  {
   "cell_type": "code",
   "execution_count": 20,
   "id": "6bd6b844",
   "metadata": {},
   "outputs": [
    {
     "data": {
      "text/html": [
       "<div>\n",
       "<style scoped>\n",
       "    .dataframe tbody tr th:only-of-type {\n",
       "        vertical-align: middle;\n",
       "    }\n",
       "\n",
       "    .dataframe tbody tr th {\n",
       "        vertical-align: top;\n",
       "    }\n",
       "\n",
       "    .dataframe thead th {\n",
       "        text-align: right;\n",
       "    }\n",
       "</style>\n",
       "<table border=\"1\" class=\"dataframe\">\n",
       "  <thead>\n",
       "    <tr style=\"text-align: right;\">\n",
       "      <th></th>\n",
       "      <th>TimeStamp</th>\n",
       "      <th>Age</th>\n",
       "      <th>Gender</th>\n",
       "      <th>Living_area</th>\n",
       "      <th>Vac_safe</th>\n",
       "      <th>Vac_status</th>\n",
       "      <th>Travel</th>\n",
       "      <th>1st_choice</th>\n",
       "      <th>2nd_choice</th>\n",
       "      <th>3rd_choice</th>\n",
       "      <th>...</th>\n",
       "      <th>6th_choice</th>\n",
       "      <th>Vac_brand</th>\n",
       "      <th>Vac_reliable</th>\n",
       "      <th>CoWin</th>\n",
       "      <th>Vac_app_easy</th>\n",
       "      <th>waiting_time</th>\n",
       "      <th>Social_dis</th>\n",
       "      <th>Hygiene</th>\n",
       "      <th>Vac_symptom</th>\n",
       "      <th>Govt_effort</th>\n",
       "    </tr>\n",
       "  </thead>\n",
       "  <tbody>\n",
       "    <tr>\n",
       "      <th>0</th>\n",
       "      <td>08-10-2021 00:59</td>\n",
       "      <td>18-25</td>\n",
       "      <td>Female</td>\n",
       "      <td>Small town</td>\n",
       "      <td>Yes</td>\n",
       "      <td>Both doses taken</td>\n",
       "      <td>No</td>\n",
       "      <td>Covishield</td>\n",
       "      <td>CoVaxin</td>\n",
       "      <td>Sputnik</td>\n",
       "      <td>...</td>\n",
       "      <td>Moderna</td>\n",
       "      <td>Covishield</td>\n",
       "      <td>Paid vaccines offered by private organizations</td>\n",
       "      <td>Yes, I faced a lot of issues while booking</td>\n",
       "      <td>3</td>\n",
       "      <td>1 - 2 hours</td>\n",
       "      <td>1</td>\n",
       "      <td>2</td>\n",
       "      <td>After both doses</td>\n",
       "      <td>2</td>\n",
       "    </tr>\n",
       "    <tr>\n",
       "      <th>1</th>\n",
       "      <td>18-10-2021 21:38</td>\n",
       "      <td>18-25</td>\n",
       "      <td>Female</td>\n",
       "      <td>Small town</td>\n",
       "      <td>Yes</td>\n",
       "      <td>Both doses taken</td>\n",
       "      <td>No</td>\n",
       "      <td>Moderna</td>\n",
       "      <td>Pfizer</td>\n",
       "      <td>Sputnik</td>\n",
       "      <td>...</td>\n",
       "      <td>AstraZeneca</td>\n",
       "      <td>Covishield</td>\n",
       "      <td>Free vaccines offered by the Government</td>\n",
       "      <td>No, I have not used the portal</td>\n",
       "      <td>4</td>\n",
       "      <td>1 - 2 hours</td>\n",
       "      <td>1</td>\n",
       "      <td>2</td>\n",
       "      <td>After 1st dose</td>\n",
       "      <td>3</td>\n",
       "    </tr>\n",
       "    <tr>\n",
       "      <th>2</th>\n",
       "      <td>18-10-2021 21:56</td>\n",
       "      <td>18-25</td>\n",
       "      <td>Male</td>\n",
       "      <td>Metropolitan cities</td>\n",
       "      <td>Yes</td>\n",
       "      <td>Both doses taken</td>\n",
       "      <td>Yes</td>\n",
       "      <td>Pfizer</td>\n",
       "      <td>AstraZeneca</td>\n",
       "      <td>Covishield</td>\n",
       "      <td>...</td>\n",
       "      <td>Moderna</td>\n",
       "      <td>Covishield</td>\n",
       "      <td>Free vaccines offered by the Government</td>\n",
       "      <td>Yes, I faced a lot of issues while booking</td>\n",
       "      <td>2</td>\n",
       "      <td>&gt; 2 hours</td>\n",
       "      <td>3</td>\n",
       "      <td>3</td>\n",
       "      <td>After 1st dose</td>\n",
       "      <td>3</td>\n",
       "    </tr>\n",
       "    <tr>\n",
       "      <th>3</th>\n",
       "      <td>18-10-2021 22:29</td>\n",
       "      <td>18-25</td>\n",
       "      <td>Female</td>\n",
       "      <td>Small town</td>\n",
       "      <td>Yes</td>\n",
       "      <td>Both doses taken</td>\n",
       "      <td>No</td>\n",
       "      <td>Covishield</td>\n",
       "      <td>CoVaxin</td>\n",
       "      <td>AstraZeneca</td>\n",
       "      <td>...</td>\n",
       "      <td>Moderna</td>\n",
       "      <td>Covishield</td>\n",
       "      <td>Free vaccines offered by the Government</td>\n",
       "      <td>Yes, I faced a lot of issues while booking</td>\n",
       "      <td>3</td>\n",
       "      <td>&gt; 2 hours</td>\n",
       "      <td>3</td>\n",
       "      <td>3</td>\n",
       "      <td>After 1st dose</td>\n",
       "      <td>4</td>\n",
       "    </tr>\n",
       "    <tr>\n",
       "      <th>4</th>\n",
       "      <td>18-10-2021 22:31</td>\n",
       "      <td>18-25</td>\n",
       "      <td>Female</td>\n",
       "      <td>Metropolitan cities</td>\n",
       "      <td>Not sure</td>\n",
       "      <td>Both doses taken</td>\n",
       "      <td>No</td>\n",
       "      <td>Covishield</td>\n",
       "      <td>CoVaxin</td>\n",
       "      <td>Sputnik</td>\n",
       "      <td>...</td>\n",
       "      <td>AstraZeneca</td>\n",
       "      <td>CoVaxin</td>\n",
       "      <td>Free vaccines offered by the Government</td>\n",
       "      <td>Yes, but I did not face any problem</td>\n",
       "      <td>4</td>\n",
       "      <td>&lt; half hour</td>\n",
       "      <td>3</td>\n",
       "      <td>3</td>\n",
       "      <td>After both doses</td>\n",
       "      <td>3</td>\n",
       "    </tr>\n",
       "  </tbody>\n",
       "</table>\n",
       "<p>5 rows × 22 columns</p>\n",
       "</div>"
      ],
      "text/plain": [
       "          TimeStamp    Age  Gender          Living_area  Vac_safe  \\\n",
       "0  08-10-2021 00:59  18-25  Female           Small town       Yes   \n",
       "1  18-10-2021 21:38  18-25  Female           Small town       Yes   \n",
       "2  18-10-2021 21:56  18-25    Male  Metropolitan cities       Yes   \n",
       "3  18-10-2021 22:29  18-25  Female           Small town       Yes   \n",
       "4  18-10-2021 22:31  18-25  Female  Metropolitan cities  Not sure   \n",
       "\n",
       "         Vac_status Travel  1st_choice   2nd_choice   3rd_choice  ...  \\\n",
       "0  Both doses taken     No  Covishield      CoVaxin      Sputnik  ...   \n",
       "1  Both doses taken     No     Moderna       Pfizer      Sputnik  ...   \n",
       "2  Both doses taken    Yes      Pfizer  AstraZeneca   Covishield  ...   \n",
       "3  Both doses taken     No  Covishield      CoVaxin  AstraZeneca  ...   \n",
       "4  Both doses taken     No  Covishield      CoVaxin      Sputnik  ...   \n",
       "\n",
       "    6th_choice   Vac_brand                                    Vac_reliable  \\\n",
       "0      Moderna  Covishield  Paid vaccines offered by private organizations   \n",
       "1  AstraZeneca  Covishield         Free vaccines offered by the Government   \n",
       "2      Moderna  Covishield         Free vaccines offered by the Government   \n",
       "3      Moderna  Covishield         Free vaccines offered by the Government   \n",
       "4  AstraZeneca     CoVaxin         Free vaccines offered by the Government   \n",
       "\n",
       "                                        CoWin Vac_app_easy waiting_time  \\\n",
       "0  Yes, I faced a lot of issues while booking            3  1 - 2 hours   \n",
       "1              No, I have not used the portal            4  1 - 2 hours   \n",
       "2  Yes, I faced a lot of issues while booking            2    > 2 hours   \n",
       "3  Yes, I faced a lot of issues while booking            3    > 2 hours   \n",
       "4         Yes, but I did not face any problem            4  < half hour   \n",
       "\n",
       "   Social_dis Hygiene       Vac_symptom  Govt_effort  \n",
       "0           1       2  After both doses            2  \n",
       "1           1       2    After 1st dose            3  \n",
       "2           3       3    After 1st dose            3  \n",
       "3           3       3    After 1st dose            4  \n",
       "4           3       3  After both doses            3  \n",
       "\n",
       "[5 rows x 22 columns]"
      ]
     },
     "execution_count": 20,
     "metadata": {},
     "output_type": "execute_result"
    }
   ],
   "source": [
    "data.columns = [\"TimeStamp\",\"Age\",\"Gender\",\"Living_area\",\"Vac_safe\",\"Vac_status\",\"Travel\",\"1st_choice\",\n",
    "                \"2nd_choice\",\"3rd_choice\",\"4th_choice\",\"5th_choice\",\"6th_choice\",\"Vac_brand\",\"Vac_reliable\",\n",
    "                \"CoWin\",\"Vac_app_easy\",\"waiting_time\",\"Social_dis\",\"Hygiene\",\"Vac_symptom\",\"Govt_effort\"]\n",
    "data.head()"
   ]
  },
  {
   "cell_type": "code",
   "execution_count": 21,
   "id": "f8342cbe",
   "metadata": {},
   "outputs": [
    {
     "name": "stdout",
     "output_type": "stream",
     "text": [
      "          Age\n",
      "18-25      99\n",
      "26-35      12\n",
      "45 above   11\n",
      "36-45       8\n",
      "                     Living_area\n",
      "Small town                    78\n",
      "Metropolitan cities           36\n",
      "Rural                         16\n",
      "        Gender\n",
      "Male        80\n",
      "Female      50\n"
     ]
    }
   ],
   "source": [
    "age_count = pd.DataFrame(data[\"Age\"].value_counts());print(age_count)\n",
    "living_area_count = pd.DataFrame(data[\"Living_area\"].value_counts());print(living_area_count)\n",
    "gen_count = pd.DataFrame(data[\"Gender\"].value_counts());print(gen_count)"
   ]
  },
  {
   "cell_type": "code",
   "execution_count": 45,
   "id": "f0224884",
   "metadata": {},
   "outputs": [
    {
     "data": {
      "text/plain": [
       "([<matplotlib.patches.Wedge at 0x21839ed75b0>,\n",
       "  <matplotlib.patches.Wedge at 0x21839f03df0>,\n",
       "  <matplotlib.patches.Wedge at 0x21839f142b0>],\n",
       " [Text(0.7093263988901435, 0.8407473222303722, 'Metropolitan cities'),\n",
       "  Text(-0.5804043469178574, 0.9344146799354426, 'Rural'),\n",
       "  Text(-0.33991852729952715, -1.04616222202798, 'Small town')])"
      ]
     },
     "execution_count": 45,
     "metadata": {},
     "output_type": "execute_result"
    },
    {
     "data": {
      "image/png": "[encoded data removed]",
      "text/plain": [
       "<Figure size 800x800 with 4 Axes>"
      ]
     },
     "metadata": {
      "needs_background": "light"
     },
     "output_type": "display_data"
    }
   ],
   "source": [
    "fig = plt.figure(figsize=(10, 10), dpi=80)\n",
    "sub_plot1 = fig.add_subplot(2,2,1)\n",
    "data.Age.hist()\n",
    "plt.xticks(rotation=0)\n",
    "#plt.bar(data.Age, height =1)\n",
    "sub_plot2 = fig.add_subplot(2,2,2)\n",
    "df = data.groupby(['Gender']).count()\n",
    "plt.pie(df.Age,labels = ['Female','Male'])\n",
    "sub_plot3 = fig.add_subplot(2,2,3)\n",
    "data.Living_area.hist()\n",
    "plt.xticks(rotation= 90)\n",
    "#plt.bar(data.Living_area)\n",
    "sub_plot4 = fig.add_subplot(2,2,4)\n",
    "df = data.groupby(['Living_area']).count()\n",
    "plt.pie(df.Age, labels=['Metropolitan cities','Rural','Small town'])"
   ]
  },
  {
   "cell_type": "code",
   "execution_count": 46,
   "id": "374c4be1",
   "metadata": {},
   "outputs": [
    {
     "data": {
      "text/plain": [
       "<AxesSubplot:xlabel='Age'>"
      ]
     },
     "execution_count": 46,
     "metadata": {},
     "output_type": "execute_result"
    },
    {
     "data": {
      "image/png": "[encoded data removed]",
      "text/plain": [
       "<Figure size 432x288 with 1 Axes>"
      ]
     },
     "metadata": {
      "needs_background": "light"
     },
     "output_type": "display_data"
    }
   ],
   "source": [
    "data.groupby(['Gender','Age'])['Gender'].count().unstack('Gender').plot.bar()"
   ]
  },
  {
   "cell_type": "code",
   "execution_count": 47,
   "id": "f6c40e83",
   "metadata": {},
   "outputs": [
    {
     "data": {
      "text/plain": [
       "Text(0.5, 1.0, 'Female')"
      ]
     },
     "execution_count": 47,
     "metadata": {},
     "output_type": "execute_result"
    },
    {
     "data": {
      "image/png": "[encoded data removed]",
      "text/plain": [
       "<Figure size 432x288 with 1 Axes>"
      ]
     },
     "metadata": {
      "needs_background": "light"
     },
     "output_type": "display_data"
    },
    {
     "data": {
      "image/png": "[encoded data removed]",
      "text/plain": [
       "<Figure size 432x288 with 1 Axes>"
      ]
     },
     "metadata": {
      "needs_background": "light"
     },
     "output_type": "display_data"
    }
   ],
   "source": [
    "male = data[data['Gender']=='Male'].groupby(['Living_area','Age'])[\"Living_area\"].count().unstack('Living_area')\n",
    "for i in list(male.columns):\n",
    "    male[i]= male[i]/age_count.Age\n",
    "male.plot.bar()\n",
    "plt.legend(loc='upper left')\n",
    "plt.title(\"Male\")\n",
    "female = data[data['Gender']=='Female'].groupby(['Living_area','Age'])[\"Living_area\"].count().unstack('Living_area')\n",
    "for i in list(female.columns):\n",
    "    female[i]= female[i]/age_count.Age\n",
    "female.plot.bar()\n",
    "plt.title(\"Female\")"
   ]
  },
  {
   "cell_type": "code",
   "execution_count": 48,
   "id": "40632efb",
   "metadata": {},
   "outputs": [
    {
     "data": {
      "text/plain": [
       "<AxesSubplot:xlabel='Age'>"
      ]
     },
     "execution_count": 48,
     "metadata": {},
     "output_type": "execute_result"
    },
    {
     "data": {
      "image/png": "[encoded data removed]",
      "text/plain": [
       "<Figure size 432x288 with 1 Axes>"
      ]
     },
     "metadata": {
      "needs_background": "light"
     },
     "output_type": "display_data"
    }
   ],
   "source": [
    "demo5 = data.groupby(['Gender','Age'])[\"Gender\"].count().unstack('Gender')\n",
    "for i in list(demo5.columns):\n",
    "    demo5[i]= demo5[i]/age_count.Age\n",
    "demo5.plot.bar()"
   ]
  },
  {
   "cell_type": "code",
   "execution_count": 22,
   "id": "b782bae9",
   "metadata": {},
   "outputs": [
    {
     "name": "stdout",
     "output_type": "stream",
     "text": [
      "Vac_safe  No, it can affect my health  Not sure       Yes\n",
      "Age                                                      \n",
      "18-25                        0.060606  0.090909  0.848485\n",
      "26-35                             NaN  0.166667  0.833333\n",
      "36-45                             NaN  0.125000  0.875000\n",
      "45 above                          NaN  0.363636  0.636364\n"
     ]
    },
    {
     "data": {
      "text/plain": [
       "<matplotlib.legend.Legend at 0x2183979e760>"
      ]
     },
     "execution_count": 22,
     "metadata": {},
     "output_type": "execute_result"
    },
    {
     "data": {
      "image/png": "[encoded data removed]",
      "text/plain": [
       "<Figure size 432x288 with 1 Axes>"
      ]
     },
     "metadata": {
      "needs_background": "light"
     },
     "output_type": "display_data"
    }
   ],
   "source": [
    "fig, axis = plt.subplots()\n",
    "df1 = data.groupby(['Age','Vac_safe'])[\"Age\"].count().unstack('Vac_safe')\n",
    "for i in list(df1.columns):\n",
    "    df1[i]= df1[i]/age_count.Age\n",
    "print(df1)\n",
    "df1.plot(kind=\"bar\",ax=axis)\n",
    "axis.legend([\"No\",\"Not sure\",\"Yes\"])"
   ]
  },
  {
   "cell_type": "code",
   "execution_count": 23,
   "id": "5bafa650",
   "metadata": {},
   "outputs": [
    {
     "name": "stdout",
     "output_type": "stream",
     "text": [
      "Vac_safe             No, it can affect my health  Not sure       Yes\n",
      "Living_area                                                         \n",
      "Metropolitan cities                     0.055556  0.083333  0.861111\n",
      "Rural                                        NaN       NaN  1.000000\n",
      "Small town                              0.051282  0.166667  0.782051\n"
     ]
    },
    {
     "data": {
      "text/plain": [
       "<matplotlib.legend.Legend at 0x218398291f0>"
      ]
     },
     "execution_count": 23,
     "metadata": {},
     "output_type": "execute_result"
    },
    {
     "data": {
      "image/png": "[encoded data removed]",
      "text/plain": [
       "<Figure size 432x288 with 1 Axes>"
      ]
     },
     "metadata": {
      "needs_background": "light"
     },
     "output_type": "display_data"
    }
   ],
   "source": [
    "fig, axis = plt.subplots()\n",
    "df2 = data.groupby(['Living_area','Vac_safe'])[\"Living_area\"].count().unstack('Vac_safe')\n",
    "for i in list(df2.columns):\n",
    "    df2[i]= df2[i]/living_area_count.Living_area\n",
    "print(df2)\n",
    "df2.plot(kind=\"bar\",ax=axis)\n",
    "axis.legend([\"No\",\"Not sure\",\"Yes\"])"
   ]
  },
  {
   "cell_type": "code",
   "execution_count": 24,
   "id": "0f39017b",
   "metadata": {},
   "outputs": [
    {
     "name": "stdout",
     "output_type": "stream",
     "text": [
      "Vac_safe  No, it can affect my health  Not sure     Yes\n",
      "Gender                                                 \n",
      "Female                           0.04    0.1000  0.8600\n",
      "Male                             0.05    0.1375  0.8125\n"
     ]
    },
    {
     "data": {
      "text/plain": [
       "<matplotlib.legend.Legend at 0x21839897a00>"
      ]
     },
     "execution_count": 24,
     "metadata": {},
     "output_type": "execute_result"
    },
    {
     "data": {
      "image/png": "[encoded data removed]",
      "text/plain": [
       "<Figure size 432x288 with 1 Axes>"
      ]
     },
     "metadata": {
      "needs_background": "light"
     },
     "output_type": "display_data"
    }
   ],
   "source": [
    "fig, axis = plt.subplots()\n",
    "df3 = data.groupby(['Gender','Vac_safe'])[\"Gender\"].count().unstack('Vac_safe')\n",
    "for i in list(df3.columns):\n",
    "    df3[i]= df3[i]/gen_count.Gender\n",
    "print(df3)\n",
    "df3.plot(kind=\"bar\",ax=axis)\n",
    "axis.legend([\"No\",\"Not sure\",\"Yes\"])"
   ]
  },
  {
   "cell_type": "code",
   "execution_count": 38,
   "id": "d50301e9",
   "metadata": {},
   "outputs": [
    {
     "data": {
      "text/plain": [
       "<AxesSubplot:xlabel='Age,Gender'>"
      ]
     },
     "execution_count": 38,
     "metadata": {},
     "output_type": "execute_result"
    },
    {
     "data": {
      "image/png": "[encoded data removed]",
      "text/plain": [
       "<Figure size 432x288 with 1 Axes>"
      ]
     },
     "metadata": {
      "needs_background": "light"
     },
     "output_type": "display_data"
    }
   ],
   "source": [
    "df4 = data.groupby(['Age','Gender','Vac_status'])[\"Age\"].count().unstack('Vac_status')\n",
    "def f(x,n):\n",
    "    l = []\n",
    "    for i in range(len(x)):\n",
    "        for j in range(0,n):\n",
    "            l.append(x[i])\n",
    "    return l\n",
    "for i in list(df4.columns):\n",
    "    df4[i]= df4[i]/f(age_count[\"Age\"],2)\n",
    "df4.plot.bar()"
   ]
  },
  {
   "cell_type": "code",
   "execution_count": 44,
   "id": "96891741",
   "metadata": {},
   "outputs": [
    {
     "data": {
      "text/plain": [
       "<AxesSubplot:xlabel='Living_area'>"
      ]
     },
     "execution_count": 44,
     "metadata": {},
     "output_type": "execute_result"
    },
    {
     "data": {
      "image/png": "[encoded data removed]",
      "text/plain": [
       "<Figure size 432x288 with 1 Axes>"
      ]
     },
     "metadata": {
      "needs_background": "light"
     },
     "output_type": "display_data"
    }
   ],
   "source": [
    "df5 = data.groupby(['Living_area','Vac_status'])[\"Living_area\"].count().unstack('Vac_status')\n",
    "for i in list(df5.columns):\n",
    "    df5[i]= df5[i]/living_area_count.Living_area\n",
    "df5.plot.bar()"
   ]
  },
  {
   "cell_type": "code",
   "execution_count": null,
   "id": "6818bb31",
   "metadata": {},
   "outputs": [],
   "source": []
  },
  {
   "cell_type": "code",
   "execution_count": null,
   "id": "955d32df",
   "metadata": {},
   "outputs": [],
   "source": []
  }
 ],
 "metadata": {
  "kernelspec": {
   "display_name": "Python 3",
   "language": "python",
   "name": "python3"
  },
  "language_info": {
   "codemirror_mode": {
    "name": "ipython",
    "version": 3
   },
   "file_extension": ".py",
   "mimetype": "text/x-python",
   "name": "python",
   "nbconvert_exporter": "python",
   "pygments_lexer": "ipython3",
   "version": "3.8.8"
  }
 },
 "nbformat": 4,
 "nbformat_minor": 5
}
